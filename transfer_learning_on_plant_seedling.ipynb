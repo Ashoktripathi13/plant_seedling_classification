{
  "nbformat": 4,
  "nbformat_minor": 0,
  "metadata": {
    "colab": {
      "provenance": [],
      "gpuType": "T4"
    },
    "kernelspec": {
      "name": "python3",
      "display_name": "Python 3"
    },
    "language_info": {
      "name": "python"
    },
    "accelerator": "GPU"
  },
  "cells": [
    {
      "cell_type": "code",
      "execution_count": null,
      "metadata": {
        "id": "3LFwMwtslS30"
      },
      "outputs": [],
      "source": [
        "# importing labraries\n",
        "import numpy as np\n",
        "import pandas as pd\n",
        "import matplotlib.pyplot as plt\n",
        "\n",
        "from tensorflow import keras\n",
        "from keras.models import Model\n",
        "from keras.layers import Dense,Flatten,GlobalAveragePooling2D\n",
        "from keras.layers import BatchNormalization ,Dropout\n",
        "from keras import optimizers\n",
        "from keras.preprocessing.image import ImageDataGenerator\n",
        "from keras.callbacks import EarlyStopping\n",
        "from keras.applications import InceptionResNetV2\n",
        "\n"
      ]
    },
    {
      "cell_type": "code",
      "source": [
        "# path of training data\n",
        "Training_data_path='/content/drive/MyDrive/output'\n"
      ],
      "metadata": {
        "id": "rz1AhBH9o5TG"
      },
      "execution_count": 9,
      "outputs": []
    },
    {
      "cell_type": "code",
      "source": [
        "# define hyper parameters\n",
        "image_size=[224,224]\n",
        "batch_size=64\n",
        "learning_rate=0.002\n",
        "momentum=0.3\n",
        "epochs=100\n",
        "patience=30\n"
      ],
      "metadata": {
        "id": "XLz57mREpeZf"
      },
      "execution_count": 17,
      "outputs": []
    },
    {
      "cell_type": "code",
      "source": [
        "train_img_datagen=ImageDataGenerator(\n",
        "    rescale=1./255,\n",
        "    rotation_range=20,\n",
        "    width_shift_range=0.2,\n",
        "    height_shift_range=0.2,\n",
        "    horizontal_flip=True,\n",
        "    vertical_flip=True,\n",
        "    validation_split=0.2\n",
        ")\n"
      ],
      "metadata": {
        "id": "uW6VEBkyupz3"
      },
      "execution_count": 11,
      "outputs": []
    },
    {
      "cell_type": "code",
      "source": [
        "# build the training  generator\n",
        "\n",
        "train_data= train_img_datagen.flow_from_directory(Training_data_path,\n",
        "                                                  target_size=(224,224),\n",
        "                                                  subset='training',\n",
        "                                                  batch_size=batch_size,\n",
        "                                                  class_mode='categorical',\n",
        "                                                  shuffle=True)\n",
        "# build the validation generator\n",
        "\n",
        "val_data=train_img_datagen.flow_from_directory(Training_data_path,\n",
        "                                               target_size=(224,224),\n",
        "                                               subset='validation',\n",
        "                                               batch_size=batch_size,\n",
        "                                               class_mode='categorical',\n",
        "                                               shuffle=True)\n",
        "\n"
      ],
      "metadata": {
        "colab": {
          "base_uri": "https://localhost:8080/"
        },
        "id": "kh-Q0o42ur12",
        "outputId": "464bfc2d-0596-44d5-f559-4242af3325b7"
      },
      "execution_count": 12,
      "outputs": [
        {
          "output_type": "stream",
          "name": "stdout",
          "text": [
            "Found 3803 images belonging to 12 classes.\n",
            "Found 947 images belonging to 12 classes.\n"
          ]
        }
      ]
    },
    {
      "cell_type": "code",
      "source": [
        "train_data.class_indices"
      ],
      "metadata": {
        "colab": {
          "base_uri": "https://localhost:8080/"
        },
        "id": "rIElERatYLvt",
        "outputId": "2508e758-df48-4a4f-8b7b-9927816bc91c"
      },
      "execution_count": 13,
      "outputs": [
        {
          "output_type": "execute_result",
          "data": {
            "text/plain": [
              "{'Black-grass': 0,\n",
              " 'Charlock': 1,\n",
              " 'Cleavers': 2,\n",
              " 'Common Chickweed': 3,\n",
              " 'Common wheat': 4,\n",
              " 'Fat Hen': 5,\n",
              " 'Loose Silky-bent': 6,\n",
              " 'Maize': 7,\n",
              " 'Scentless Mayweed': 8,\n",
              " 'Shepherds Purse': 9,\n",
              " 'Small-flowered Cranesbill': 10,\n",
              " 'Sugar beet': 11}"
            ]
          },
          "metadata": {},
          "execution_count": 13
        }
      ]
    },
    {
      "cell_type": "code",
      "source": [
        "class_mapping={\n",
        " 0:'Black-grass',\n",
        " 1:'Charlock',\n",
        " 2:'Cleavers',\n",
        " 3:'Common Chickweed',\n",
        " 4:'Common wheat',\n",
        " 5:'Fat Hen',\n",
        " 6:'Loose Silky-bent',\n",
        " 7:'Maize',\n",
        " 8:'Scentless Mayweed',\n",
        " 9:'Shepherds Purse',\n",
        " 10:'Small-flowered Cranesbill',\n",
        " 11:'Sugar beet'\n",
        "\n",
        "}"
      ],
      "metadata": {
        "id": "Kcc9NRwidF48"
      },
      "execution_count": 14,
      "outputs": []
    },
    {
      "cell_type": "code",
      "source": [
        "# import the InceptionResNetV2 model\n",
        "pre_train_model=InceptionResNetV2(input_shape=image_size+[3],\n",
        "                                  include_top=False, #leave out the last fully connect layer\n",
        "                                  weights='imagenet')"
      ],
      "metadata": {
        "colab": {
          "base_uri": "https://localhost:8080/"
        },
        "id": "Ur2se-fRdvdJ",
        "outputId": "a2811c79-2617-411b-b22c-313443dbc507"
      },
      "execution_count": 15,
      "outputs": [
        {
          "output_type": "stream",
          "name": "stdout",
          "text": [
            "Downloading data from https://storage.googleapis.com/tensorflow/keras-applications/inception_resnet_v2/inception_resnet_v2_weights_tf_dim_ordering_tf_kernels_notop.h5\n",
            "219055592/219055592 [==============================] - 6s 0us/step\n"
          ]
        }
      ]
    },
    {
      "cell_type": "code",
      "source": [
        "# freeze the pre_train_model\n",
        "for layer in pre_train_model.layers:\n",
        "  layer.trainable=False"
      ],
      "metadata": {
        "id": "rLRlmWWNgqDb"
      },
      "execution_count": 16,
      "outputs": []
    },
    {
      "cell_type": "code",
      "source": [
        "# Flatten the output layer to 1 dimension\n",
        "layers=Flatten()(pre_train_model.output)\n",
        "\n",
        "# add a fully connected layer with 1024 hidden unit and ReLU activation\n",
        "layers=Dense(1024,activation='relu')(layers)\n",
        "\n",
        "# add dropout rate of 0.5\n",
        "# layers=Dropout(0.5,name='Dropout_1')(layers)\n",
        "\n",
        "# add batchnormailzation\n",
        "layers = BatchNormalization()(layers)\n",
        "\n",
        "layers = Dense(512, activation='relu')(layers)\n",
        "# layers = Dropout(0.5,name = 'Dropout')(layers)\n",
        "\n",
        "# add a final  layer  for classification\n",
        "prediction = Dense(12,activation = 'softmax')(layers)\n",
        "\n",
        "model = Model(inputs=pre_train_model.input,outputs= prediction)"
      ],
      "metadata": {
        "id": "eX1qMy1nhDxN"
      },
      "execution_count": 18,
      "outputs": []
    },
    {
      "cell_type": "code",
      "source": [
        "# specify optimizer and loss\n",
        "\n",
        "adam=optimizers.SGD(learning_rate=learning_rate,momentum=momentum)\n",
        "model.compile(\n",
        "    optimizer=adam,\n",
        "    loss='categorical_crossentropy',\n",
        "    metrics=['accuracy']\n",
        ")"
      ],
      "metadata": {
        "id": "LUlsA2bT1xWp"
      },
      "execution_count": 19,
      "outputs": []
    },
    {
      "cell_type": "code",
      "source": [
        "#  summary of model\n",
        "\n",
        "model.summary()"
      ],
      "metadata": {
        "id": "tiIN4dd-2v87"
      },
      "execution_count": null,
      "outputs": []
    },
    {
      "cell_type": "code",
      "source": [
        "# train the model with your data\n",
        "history= model.fit(\n",
        "    train_data,\n",
        "    validation_data=val_data,\n",
        "    batch_size=batch_size,\n",
        "    epochs=epochs,\n",
        "    steps_per_epoch=len(train_data)//10\n",
        ")"
      ],
      "metadata": {
        "colab": {
          "base_uri": "https://localhost:8080/"
        },
        "id": "3xeCXWkS1xZ3",
        "outputId": "886e1c73-c20d-4378-a9bc-2766a66949f9"
      },
      "execution_count": 22,
      "outputs": [
        {
          "output_type": "stream",
          "name": "stdout",
          "text": [
            "Epoch 1/100\n",
            "11/11 [==============================] - 849s 83s/step - loss: 1.6957 - accuracy: 0.4688 - val_loss: 1.6511 - val_accuracy: 0.4900\n",
            "Epoch 2/100\n",
            "11/11 [==============================] - 197s 18s/step - loss: 1.5294 - accuracy: 0.5170 - val_loss: 1.4142 - val_accuracy: 0.5565\n",
            "Epoch 3/100\n",
            "11/11 [==============================] - 183s 17s/step - loss: 1.2396 - accuracy: 0.6023 - val_loss: 1.3260 - val_accuracy: 0.5871\n",
            "Epoch 4/100\n",
            "11/11 [==============================] - 159s 14s/step - loss: 1.1064 - accuracy: 0.6562 - val_loss: 1.1484 - val_accuracy: 0.6251\n",
            "Epoch 5/100\n",
            "11/11 [==============================] - 148s 14s/step - loss: 1.0638 - accuracy: 0.6392 - val_loss: 1.0862 - val_accuracy: 0.6579\n",
            "Epoch 6/100\n",
            "11/11 [==============================] - 134s 12s/step - loss: 0.8856 - accuracy: 0.6960 - val_loss: 1.0625 - val_accuracy: 0.6526\n",
            "Epoch 7/100\n",
            "11/11 [==============================] - 122s 11s/step - loss: 0.9071 - accuracy: 0.7017 - val_loss: 0.9808 - val_accuracy: 0.6758\n",
            "Epoch 8/100\n",
            "11/11 [==============================] - 116s 11s/step - loss: 0.9924 - accuracy: 0.6830 - val_loss: 0.9854 - val_accuracy: 0.6705\n",
            "Epoch 9/100\n",
            "11/11 [==============================] - 106s 10s/step - loss: 0.8299 - accuracy: 0.7131 - val_loss: 0.9141 - val_accuracy: 0.6906\n",
            "Epoch 10/100\n",
            "11/11 [==============================] - 93s 8s/step - loss: 0.8638 - accuracy: 0.6818 - val_loss: 0.8764 - val_accuracy: 0.6832\n",
            "Epoch 11/100\n",
            "11/11 [==============================] - 91s 9s/step - loss: 0.8607 - accuracy: 0.7188 - val_loss: 0.8160 - val_accuracy: 0.7202\n",
            "Epoch 12/100\n",
            "11/11 [==============================] - 77s 7s/step - loss: 0.7538 - accuracy: 0.7642 - val_loss: 0.8547 - val_accuracy: 0.6980\n",
            "Epoch 13/100\n",
            "11/11 [==============================] - 72s 7s/step - loss: 0.7124 - accuracy: 0.7557 - val_loss: 0.7779 - val_accuracy: 0.7191\n",
            "Epoch 14/100\n",
            "11/11 [==============================] - 71s 7s/step - loss: 0.7537 - accuracy: 0.7386 - val_loss: 0.7617 - val_accuracy: 0.7360\n",
            "Epoch 15/100\n",
            "11/11 [==============================] - 65s 6s/step - loss: 0.7283 - accuracy: 0.7642 - val_loss: 0.7443 - val_accuracy: 0.7487\n",
            "Epoch 16/100\n",
            "11/11 [==============================] - 62s 6s/step - loss: 0.7107 - accuracy: 0.7699 - val_loss: 0.7124 - val_accuracy: 0.7571\n",
            "Epoch 17/100\n",
            "11/11 [==============================] - 59s 6s/step - loss: 0.7455 - accuracy: 0.7756 - val_loss: 0.6873 - val_accuracy: 0.7582\n",
            "Epoch 18/100\n",
            "11/11 [==============================] - 57s 5s/step - loss: 0.6547 - accuracy: 0.7955 - val_loss: 0.7388 - val_accuracy: 0.7455\n",
            "Epoch 19/100\n",
            "11/11 [==============================] - 50s 4s/step - loss: 0.6330 - accuracy: 0.8040 - val_loss: 0.6819 - val_accuracy: 0.7761\n",
            "Epoch 20/100\n",
            "11/11 [==============================] - 53s 5s/step - loss: 0.6066 - accuracy: 0.7926 - val_loss: 0.6981 - val_accuracy: 0.7677\n",
            "Epoch 21/100\n",
            "11/11 [==============================] - 44s 4s/step - loss: 0.6217 - accuracy: 0.8125 - val_loss: 0.6869 - val_accuracy: 0.7772\n",
            "Epoch 22/100\n",
            "11/11 [==============================] - 41s 4s/step - loss: 0.6513 - accuracy: 0.7699 - val_loss: 0.6634 - val_accuracy: 0.7719\n",
            "Epoch 23/100\n",
            "11/11 [==============================] - 40s 4s/step - loss: 0.6282 - accuracy: 0.7869 - val_loss: 0.6777 - val_accuracy: 0.7825\n",
            "Epoch 24/100\n",
            "11/11 [==============================] - 38s 4s/step - loss: 0.6018 - accuracy: 0.8011 - val_loss: 0.6580 - val_accuracy: 0.7825\n",
            "Epoch 25/100\n",
            "11/11 [==============================] - 37s 4s/step - loss: 0.6057 - accuracy: 0.7926 - val_loss: 0.6716 - val_accuracy: 0.7772\n",
            "Epoch 26/100\n",
            "11/11 [==============================] - 35s 3s/step - loss: 0.6176 - accuracy: 0.8125 - val_loss: 0.6279 - val_accuracy: 0.7930\n",
            "Epoch 27/100\n",
            "11/11 [==============================] - 34s 3s/step - loss: 0.5569 - accuracy: 0.8239 - val_loss: 0.6410 - val_accuracy: 0.7878\n",
            "Epoch 28/100\n",
            "11/11 [==============================] - 29s 3s/step - loss: 0.5917 - accuracy: 0.7812 - val_loss: 0.6039 - val_accuracy: 0.7814\n",
            "Epoch 29/100\n",
            "11/11 [==============================] - 36s 3s/step - loss: 0.6063 - accuracy: 0.8068 - val_loss: 0.6279 - val_accuracy: 0.7867\n",
            "Epoch 30/100\n",
            "11/11 [==============================] - 34s 3s/step - loss: 0.6610 - accuracy: 0.7727 - val_loss: 0.5979 - val_accuracy: 0.7930\n",
            "Epoch 31/100\n",
            "11/11 [==============================] - 30s 3s/step - loss: 0.6007 - accuracy: 0.7898 - val_loss: 0.5758 - val_accuracy: 0.8152\n",
            "Epoch 32/100\n",
            "11/11 [==============================] - 27s 3s/step - loss: 0.5742 - accuracy: 0.8125 - val_loss: 0.5985 - val_accuracy: 0.8025\n",
            "Epoch 33/100\n",
            "11/11 [==============================] - 26s 3s/step - loss: 0.6293 - accuracy: 0.7585 - val_loss: 0.6190 - val_accuracy: 0.8004\n",
            "Epoch 34/100\n",
            "11/11 [==============================] - 28s 3s/step - loss: 0.5484 - accuracy: 0.8381 - val_loss: 0.6103 - val_accuracy: 0.7920\n",
            "Epoch 35/100\n",
            "11/11 [==============================] - 35s 3s/step - loss: 0.6363 - accuracy: 0.7528 - val_loss: 0.5539 - val_accuracy: 0.8046\n",
            "Epoch 36/100\n",
            "11/11 [==============================] - 26s 3s/step - loss: 0.5495 - accuracy: 0.8125 - val_loss: 0.6347 - val_accuracy: 0.7867\n",
            "Epoch 37/100\n",
            "11/11 [==============================] - 29s 3s/step - loss: 0.5779 - accuracy: 0.7983 - val_loss: 0.5823 - val_accuracy: 0.8152\n",
            "Epoch 38/100\n",
            "11/11 [==============================] - 30s 3s/step - loss: 0.6015 - accuracy: 0.7955 - val_loss: 0.5823 - val_accuracy: 0.7983\n",
            "Epoch 39/100\n",
            "11/11 [==============================] - 26s 2s/step - loss: 0.6363 - accuracy: 0.7699 - val_loss: 0.5676 - val_accuracy: 0.8046\n",
            "Epoch 40/100\n",
            "11/11 [==============================] - 29s 3s/step - loss: 0.5128 - accuracy: 0.8381 - val_loss: 0.5585 - val_accuracy: 0.8099\n",
            "Epoch 41/100\n",
            "11/11 [==============================] - 28s 3s/step - loss: 0.5347 - accuracy: 0.8267 - val_loss: 0.5469 - val_accuracy: 0.8215\n",
            "Epoch 42/100\n",
            "11/11 [==============================] - 27s 3s/step - loss: 0.4826 - accuracy: 0.8300 - val_loss: 0.5209 - val_accuracy: 0.8215\n",
            "Epoch 43/100\n",
            "11/11 [==============================] - 25s 2s/step - loss: 0.4671 - accuracy: 0.8551 - val_loss: 0.5705 - val_accuracy: 0.8057\n",
            "Epoch 44/100\n",
            "11/11 [==============================] - 23s 2s/step - loss: 0.5738 - accuracy: 0.7983 - val_loss: 0.5562 - val_accuracy: 0.8226\n",
            "Epoch 45/100\n",
            "11/11 [==============================] - 24s 2s/step - loss: 0.5389 - accuracy: 0.8182 - val_loss: 0.5782 - val_accuracy: 0.7941\n",
            "Epoch 46/100\n",
            "11/11 [==============================] - 24s 2s/step - loss: 0.5500 - accuracy: 0.8210 - val_loss: 0.5758 - val_accuracy: 0.8004\n",
            "Epoch 47/100\n",
            "11/11 [==============================] - 26s 2s/step - loss: 0.5672 - accuracy: 0.7955 - val_loss: 0.5474 - val_accuracy: 0.8078\n",
            "Epoch 48/100\n",
            "11/11 [==============================] - 22s 2s/step - loss: 0.4835 - accuracy: 0.8239 - val_loss: 0.5562 - val_accuracy: 0.8110\n",
            "Epoch 49/100\n",
            "11/11 [==============================] - 22s 2s/step - loss: 0.4887 - accuracy: 0.8580 - val_loss: 0.5478 - val_accuracy: 0.8015\n",
            "Epoch 50/100\n",
            "11/11 [==============================] - 24s 2s/step - loss: 0.4848 - accuracy: 0.8210 - val_loss: 0.5713 - val_accuracy: 0.7983\n",
            "Epoch 51/100\n",
            "11/11 [==============================] - 23s 2s/step - loss: 0.5833 - accuracy: 0.7898 - val_loss: 0.5271 - val_accuracy: 0.8099\n",
            "Epoch 52/100\n",
            "11/11 [==============================] - 21s 2s/step - loss: 0.4790 - accuracy: 0.8324 - val_loss: 0.5352 - val_accuracy: 0.8258\n",
            "Epoch 53/100\n",
            "11/11 [==============================] - 27s 3s/step - loss: 0.4716 - accuracy: 0.8409 - val_loss: 0.5371 - val_accuracy: 0.8184\n",
            "Epoch 54/100\n",
            "11/11 [==============================] - 27s 3s/step - loss: 0.5253 - accuracy: 0.8153 - val_loss: 0.5517 - val_accuracy: 0.8310\n",
            "Epoch 55/100\n",
            "11/11 [==============================] - 27s 3s/step - loss: 0.5087 - accuracy: 0.8267 - val_loss: 0.5106 - val_accuracy: 0.8427\n",
            "Epoch 56/100\n",
            "11/11 [==============================] - 26s 3s/step - loss: 0.5181 - accuracy: 0.7983 - val_loss: 0.5367 - val_accuracy: 0.8152\n",
            "Epoch 57/100\n",
            "11/11 [==============================] - 21s 2s/step - loss: 0.5235 - accuracy: 0.8097 - val_loss: 0.5440 - val_accuracy: 0.8173\n",
            "Epoch 58/100\n",
            "11/11 [==============================] - 23s 2s/step - loss: 0.4746 - accuracy: 0.8381 - val_loss: 0.4979 - val_accuracy: 0.8332\n",
            "Epoch 59/100\n",
            "11/11 [==============================] - 24s 2s/step - loss: 0.4728 - accuracy: 0.8295 - val_loss: 0.5249 - val_accuracy: 0.8247\n",
            "Epoch 60/100\n",
            "11/11 [==============================] - 27s 3s/step - loss: 0.4942 - accuracy: 0.8409 - val_loss: 0.5098 - val_accuracy: 0.8163\n",
            "Epoch 61/100\n",
            "11/11 [==============================] - 22s 2s/step - loss: 0.4168 - accuracy: 0.8438 - val_loss: 0.5246 - val_accuracy: 0.8258\n",
            "Epoch 62/100\n",
            "11/11 [==============================] - 23s 2s/step - loss: 0.4386 - accuracy: 0.8494 - val_loss: 0.5228 - val_accuracy: 0.8258\n",
            "Epoch 63/100\n",
            "11/11 [==============================] - 21s 2s/step - loss: 0.4824 - accuracy: 0.8068 - val_loss: 0.5152 - val_accuracy: 0.8237\n",
            "Epoch 64/100\n",
            "11/11 [==============================] - 23s 2s/step - loss: 0.5050 - accuracy: 0.8381 - val_loss: 0.5243 - val_accuracy: 0.8152\n",
            "Epoch 65/100\n",
            "11/11 [==============================] - 22s 2s/step - loss: 0.4272 - accuracy: 0.8295 - val_loss: 0.5229 - val_accuracy: 0.8184\n",
            "Epoch 66/100\n",
            "11/11 [==============================] - 28s 3s/step - loss: 0.5934 - accuracy: 0.7867 - val_loss: 0.4877 - val_accuracy: 0.8289\n",
            "Epoch 67/100\n",
            "11/11 [==============================] - 23s 2s/step - loss: 0.4738 - accuracy: 0.8381 - val_loss: 0.5161 - val_accuracy: 0.8268\n",
            "Epoch 68/100\n",
            "11/11 [==============================] - 27s 3s/step - loss: 0.4601 - accuracy: 0.8267 - val_loss: 0.5009 - val_accuracy: 0.8279\n",
            "Epoch 69/100\n",
            "11/11 [==============================] - 23s 2s/step - loss: 0.4738 - accuracy: 0.8381 - val_loss: 0.5140 - val_accuracy: 0.8247\n",
            "Epoch 70/100\n",
            "11/11 [==============================] - 23s 2s/step - loss: 0.4085 - accuracy: 0.8415 - val_loss: 0.5102 - val_accuracy: 0.8374\n",
            "Epoch 71/100\n",
            "11/11 [==============================] - 23s 2s/step - loss: 0.4680 - accuracy: 0.8153 - val_loss: 0.4987 - val_accuracy: 0.8258\n",
            "Epoch 72/100\n",
            "11/11 [==============================] - 22s 2s/step - loss: 0.4450 - accuracy: 0.8329 - val_loss: 0.4979 - val_accuracy: 0.8427\n",
            "Epoch 73/100\n",
            "11/11 [==============================] - 21s 2s/step - loss: 0.3783 - accuracy: 0.8750 - val_loss: 0.4669 - val_accuracy: 0.8448\n",
            "Epoch 74/100\n",
            "11/11 [==============================] - 23s 2s/step - loss: 0.4146 - accuracy: 0.8466 - val_loss: 0.4921 - val_accuracy: 0.8310\n",
            "Epoch 75/100\n",
            "11/11 [==============================] - 21s 2s/step - loss: 0.4502 - accuracy: 0.8466 - val_loss: 0.4893 - val_accuracy: 0.8321\n",
            "Epoch 76/100\n",
            "11/11 [==============================] - 26s 3s/step - loss: 0.3829 - accuracy: 0.8920 - val_loss: 0.4931 - val_accuracy: 0.8279\n",
            "Epoch 77/100\n",
            "11/11 [==============================] - 23s 2s/step - loss: 0.4448 - accuracy: 0.8352 - val_loss: 0.5129 - val_accuracy: 0.8184\n",
            "Epoch 78/100\n",
            "11/11 [==============================] - 23s 2s/step - loss: 0.3195 - accuracy: 0.9020 - val_loss: 0.4858 - val_accuracy: 0.8374\n",
            "Epoch 79/100\n",
            "11/11 [==============================] - 21s 2s/step - loss: 0.4655 - accuracy: 0.8381 - val_loss: 0.4552 - val_accuracy: 0.8458\n",
            "Epoch 80/100\n",
            "11/11 [==============================] - 23s 2s/step - loss: 0.3832 - accuracy: 0.8722 - val_loss: 0.4668 - val_accuracy: 0.8469\n",
            "Epoch 81/100\n",
            "11/11 [==============================] - 22s 2s/step - loss: 0.4042 - accuracy: 0.8523 - val_loss: 0.4497 - val_accuracy: 0.8543\n",
            "Epoch 82/100\n",
            "11/11 [==============================] - 23s 2s/step - loss: 0.4042 - accuracy: 0.8693 - val_loss: 0.4643 - val_accuracy: 0.8479\n",
            "Epoch 83/100\n",
            "11/11 [==============================] - 23s 2s/step - loss: 0.4028 - accuracy: 0.8636 - val_loss: 0.4741 - val_accuracy: 0.8395\n",
            "Epoch 84/100\n",
            "11/11 [==============================] - 22s 2s/step - loss: 0.3952 - accuracy: 0.8409 - val_loss: 0.4439 - val_accuracy: 0.8564\n",
            "Epoch 85/100\n",
            "11/11 [==============================] - 23s 2s/step - loss: 0.3982 - accuracy: 0.8778 - val_loss: 0.4732 - val_accuracy: 0.8448\n",
            "Epoch 86/100\n",
            "11/11 [==============================] - 26s 3s/step - loss: 0.4085 - accuracy: 0.8665 - val_loss: 0.4786 - val_accuracy: 0.8258\n",
            "Epoch 87/100\n",
            "11/11 [==============================] - 21s 2s/step - loss: 0.3402 - accuracy: 0.8920 - val_loss: 0.5010 - val_accuracy: 0.8205\n",
            "Epoch 88/100\n",
            "11/11 [==============================] - 23s 2s/step - loss: 0.4070 - accuracy: 0.8494 - val_loss: 0.4696 - val_accuracy: 0.8458\n",
            "Epoch 89/100\n",
            "11/11 [==============================] - 22s 2s/step - loss: 0.4512 - accuracy: 0.8352 - val_loss: 0.4464 - val_accuracy: 0.8574\n",
            "Epoch 90/100\n",
            "11/11 [==============================] - 21s 2s/step - loss: 0.3845 - accuracy: 0.8693 - val_loss: 0.4476 - val_accuracy: 0.8638\n",
            "Epoch 91/100\n",
            "11/11 [==============================] - 27s 3s/step - loss: 0.4539 - accuracy: 0.8352 - val_loss: 0.4721 - val_accuracy: 0.8226\n",
            "Epoch 92/100\n",
            "11/11 [==============================] - 27s 3s/step - loss: 0.3676 - accuracy: 0.8892 - val_loss: 0.4758 - val_accuracy: 0.8469\n",
            "Epoch 93/100\n",
            "11/11 [==============================] - 25s 2s/step - loss: 0.3554 - accuracy: 0.8778 - val_loss: 0.4401 - val_accuracy: 0.8574\n",
            "Epoch 94/100\n",
            "11/11 [==============================] - 27s 3s/step - loss: 0.4593 - accuracy: 0.8466 - val_loss: 0.4497 - val_accuracy: 0.8448\n",
            "Epoch 95/100\n",
            "11/11 [==============================] - 21s 2s/step - loss: 0.3498 - accuracy: 0.8807 - val_loss: 0.4596 - val_accuracy: 0.8490\n",
            "Epoch 96/100\n",
            "11/11 [==============================] - 22s 2s/step - loss: 0.4632 - accuracy: 0.8523 - val_loss: 0.4782 - val_accuracy: 0.8405\n",
            "Epoch 97/100\n",
            "11/11 [==============================] - 21s 2s/step - loss: 0.3867 - accuracy: 0.8617 - val_loss: 0.4638 - val_accuracy: 0.8416\n",
            "Epoch 98/100\n",
            "11/11 [==============================] - 26s 3s/step - loss: 0.4418 - accuracy: 0.8324 - val_loss: 0.4755 - val_accuracy: 0.8501\n",
            "Epoch 99/100\n",
            "11/11 [==============================] - 27s 3s/step - loss: 0.3633 - accuracy: 0.8608 - val_loss: 0.4623 - val_accuracy: 0.8501\n",
            "Epoch 100/100\n",
            "11/11 [==============================] - 23s 2s/step - loss: 0.4057 - accuracy: 0.8466 - val_loss: 0.4493 - val_accuracy: 0.8384\n"
          ]
        }
      ]
    },
    {
      "cell_type": "code",
      "source": [],
      "metadata": {
        "id": "yLgJnaiU1xdU"
      },
      "execution_count": null,
      "outputs": []
    },
    {
      "cell_type": "code",
      "source": [
        "# saving the model\n",
        "model.save('model.h5')"
      ],
      "metadata": {
        "id": "r-Cj0iHZ1xi-"
      },
      "execution_count": 23,
      "outputs": []
    },
    {
      "cell_type": "code",
      "source": [
        "training_loss_history = history.history['loss']\n",
        "validation_loss_history = history.history['val_loss']"
      ],
      "metadata": {
        "id": "if2fOU92zkG1"
      },
      "execution_count": 24,
      "outputs": []
    },
    {
      "cell_type": "code",
      "source": [
        "# plot the training loss and validation loss\n",
        "\n",
        "epochs = range(1, len(training_loss_history) + 1)\n",
        "plt.plot(epochs, training_loss_history, label='Training Loss')\n",
        "plt.plot(epochs, validation_loss_history, label='Validation Loss')\n",
        "plt.xlabel('Epochs')\n",
        "plt.ylabel('Loss')\n",
        "plt.legend()\n",
        "plt.show()"
      ],
      "metadata": {
        "colab": {
          "base_uri": "https://localhost:8080/",
          "height": 449
        },
        "id": "rU-2-XoDy4_W",
        "outputId": "65599e84-e28f-46cc-fc96-457e47c001b0"
      },
      "execution_count": 25,
      "outputs": [
        {
          "output_type": "display_data",
          "data": {
            "text/plain": [
              "<Figure size 640x480 with 1 Axes>"
            ],
            "image/png": "[encoded data removed]"
          },
          "metadata": {}
        }
      ]
    },
    {
      "cell_type": "code",
      "source": [
        "training_accuracy_history = history.history['accuracy']\n",
        "validation_accuracy_history = history.history['val_accuracy']"
      ],
      "metadata": {
        "id": "AHTI-KObzsmr"
      },
      "execution_count": 26,
      "outputs": []
    },
    {
      "cell_type": "code",
      "source": [
        "# plot the training accuracy and validation accuray\n",
        "\n",
        "epochs = range(1, len(training_accuracy_history) + 1)\n",
        "plt.plot(epochs, training_accuracy_history, label='Training Accuracy')\n",
        "plt.plot(epochs, validation_accuracy_history, label='Validation Accuracy')\n",
        "plt.xlabel('Epochs')\n",
        "plt.ylabel('Accuracy')\n",
        "plt.legend()\n",
        "plt.show()"
      ],
      "metadata": {
        "colab": {
          "base_uri": "https://localhost:8080/",
          "height": 449
        },
        "id": "OQDMVDZ-0QCJ",
        "outputId": "99462a94-4674-4e7b-a0f4-4930a546ccd3"
      },
      "execution_count": 27,
      "outputs": [
        {
          "output_type": "display_data",
          "data": {
            "text/plain": [
              "<Figure size 640x480 with 1 Axes>"
            ],
            "image/png": "[encoded data removed]"
          },
          "metadata": {}
        }
      ]
    },
    {
      "cell_type": "code",
      "source": [
        "from tensorflow.keras.models import load_model"
      ],
      "metadata": {
        "id": "EAPQvdWH0Soy"
      },
      "execution_count": null,
      "outputs": []
    },
    {
      "cell_type": "code",
      "source": [
        "model_path='/content/model.h5'"
      ],
      "metadata": {
        "id": "gf1qLKTz-He_"
      },
      "execution_count": null,
      "outputs": []
    },
    {
      "cell_type": "code",
      "source": [
        "model=load_model(model_path)"
      ],
      "metadata": {
        "id": "s9_aoGxt-Bcc"
      },
      "execution_count": null,
      "outputs": []
    },
    {
      "cell_type": "code",
      "source": [
        "model.summary()"
      ],
      "metadata": {
        "id": "agqmrGMf-Q-a"
      },
      "execution_count": null,
      "outputs": []
    },
    {
      "cell_type": "code",
      "source": [],
      "metadata": {
        "id": "B8oirAuk-YBu"
      },
      "execution_count": null,
      "outputs": []
    }
  ]
}